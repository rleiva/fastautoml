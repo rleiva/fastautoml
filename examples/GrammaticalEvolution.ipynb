{
 "cells": [
  {
   "cell_type": "code",
   "execution_count": 1,
   "metadata": {},
   "outputs": [],
   "source": [
    "from fastautoml.fastautoml import AutoRegressor\n",
    "from fastautoml.fastautoml import Miscoding\n",
    "\n",
    "import numpy as np\n",
    "from scipy.stats import norm, expon\n",
    "\n",
    "import matplotlib.pyplot as plt"
   ]
  },
  {
   "cell_type": "code",
   "execution_count": 2,
   "metadata": {},
   "outputs": [],
   "source": [
    "n_samples = 1000"
   ]
  },
  {
   "cell_type": "markdown",
   "metadata": {},
   "source": [
    "### Model y = X1 + X2 + X3 + X4"
   ]
  },
  {
   "cell_type": "code",
   "execution_count": 3,
   "metadata": {},
   "outputs": [],
   "source": [
    "X1 = norm.rvs(size=n_samples)\n",
    "X2 = norm.rvs(loc=3, scale=1, size=n_samples)\n",
    "X3 = expon.rvs(size=n_samples)\n",
    "X4 = norm.rvs(size=n_samples)\n",
    "X = np.column_stack((X1, X2, X3, X4))\n",
    "y = X1 + X2 + X3 + X4"
   ]
  },
  {
   "cell_type": "code",
   "execution_count": 4,
   "metadata": {},
   "outputs": [
    {
     "name": "stdout",
     "output_type": "stream",
     "text": [
      "Final Model:  (1*X[1])+(X[0])\n",
      "Final Nescience:  0.9179613595442939\n"
     ]
    }
   ],
   "source": [
    "auto = AutoRegressor(auto=False)\n",
    "auto.fit(X, y)\n",
    "(nsc, model, viu) = auto.GrammaticalEvolution()\n",
    "print(\"Final Model: \", model)\n",
    "print(\"Final Nescience: \", nsc)"
   ]
  },
  {
   "cell_type": "code",
   "execution_count": 5,
   "metadata": {},
   "outputs": [],
   "source": [
    "X1 = norm.rvs(size=n_samples)\n",
    "X2 = norm.rvs(loc=3, scale=1, size=n_samples)\n",
    "X3 = expon.rvs(size=n_samples)\n",
    "X4 = norm.rvs(size=n_samples)\n",
    "X5 = np.random.uniform(low=0.0, high=1.0, size=n_samples)\n",
    "X6 = np.random.uniform(low=0.0, high=1.0, size=n_samples)\n",
    "X7 = np.random.uniform(low=0.0, high=1.0, size=n_samples)\n",
    "X8 = np.random.uniform(low=0.0, high=1.0, size=n_samples)\n",
    "X = np.column_stack((X1, X2, X3, X4, X5, X6, X7, X8))\n",
    "y = X1 + X2 + X3 + X4"
   ]
  },
  {
   "cell_type": "code",
   "execution_count": 6,
   "metadata": {},
   "outputs": [
    {
     "name": "stdout",
     "output_type": "stream",
     "text": [
      "Final Model:  (X[0])+(X[1])\n",
      "Final Nescience:  0.9274920903014374\n"
     ]
    }
   ],
   "source": [
    "auto = AutoRegressor(auto=False)\n",
    "auto.fit(X, y)\n",
    "(nsc, model, viu) = auto.GrammaticalEvolution()\n",
    "print(\"Final Model: \", model)\n",
    "print(\"Final Nescience: \", nsc)"
   ]
  },
  {
   "cell_type": "markdown",
   "metadata": {},
   "source": [
    "#### Model y = X1 + 2 * X2 + 3 * X3 + 4 * X4"
   ]
  },
  {
   "cell_type": "code",
   "execution_count": 7,
   "metadata": {},
   "outputs": [],
   "source": [
    "X1 = norm.rvs(size=n_samples)\n",
    "X2 = norm.rvs(loc=3, scale=1, size=n_samples)\n",
    "X3 = expon.rvs(size=n_samples)\n",
    "X4 = norm.rvs(size=n_samples)\n",
    "X = np.column_stack((X1, X2, X3, X4))\n",
    "y = X1 + 2 * X2 + 3 * X3 + 4 * X4"
   ]
  },
  {
   "cell_type": "code",
   "execution_count": 8,
   "metadata": {},
   "outputs": [
    {
     "name": "stdout",
     "output_type": "stream",
     "text": [
      "Final Model:  (95*X[3])+(75*X[2])\n",
      "Final Nescience:  0.8614023381683443\n"
     ]
    }
   ],
   "source": [
    "auto = AutoRegressor(auto=False)\n",
    "auto.fit(X, y)\n",
    "(nsc, model, viu) = auto.GrammaticalEvolution()\n",
    "print(\"Final Model: \", model)\n",
    "print(\"Final Nescience: \", nsc)"
   ]
  },
  {
   "cell_type": "markdown",
   "metadata": {},
   "source": [
    "#### Model y = X1 + X2 + X3^2 + X4^3"
   ]
  },
  {
   "cell_type": "code",
   "execution_count": 9,
   "metadata": {},
   "outputs": [],
   "source": [
    "X1 = norm.rvs(size=n_samples)\n",
    "X2 = norm.rvs(loc=3, scale=1, size=n_samples)\n",
    "X3 = expon.rvs(size=n_samples)\n",
    "X4 = norm.rvs(size=n_samples)\n",
    "X = np.column_stack((X1, X2, X3, X4))\n",
    "y = X1 + X2 + X3**2 + X4**3"
   ]
  },
  {
   "cell_type": "code",
   "execution_count": 10,
   "metadata": {},
   "outputs": [
    {
     "name": "stdout",
     "output_type": "stream",
     "text": [
      "Final Model:  ((X[3]**3)+(X[3]**2))+(X[2]**2)\n",
      "Final Nescience:  0.8739445932023964\n"
     ]
    }
   ],
   "source": [
    "auto = AutoRegressor(auto=False)\n",
    "auto.fit(X, y)\n",
    "(nsc, model, viu) = auto.GrammaticalEvolution()\n",
    "print(\"Final Model: \", model)\n",
    "print(\"Final Nescience: \", nsc)"
   ]
  }
 ],
 "metadata": {
  "kernelspec": {
   "display_name": "Python 3",
   "language": "python",
   "name": "python3"
  },
  "language_info": {
   "codemirror_mode": {
    "name": "ipython",
    "version": 3
   },
   "file_extension": ".py",
   "mimetype": "text/x-python",
   "name": "python",
   "nbconvert_exporter": "python",
   "pygments_lexer": "ipython3",
   "version": "3.8.2"
  }
 },
 "nbformat": 4,
 "nbformat_minor": 4
}
